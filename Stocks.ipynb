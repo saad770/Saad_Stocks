{
 "cells": [
  {
   "cell_type": "code",
   "execution_count": 1,
   "metadata": {},
   "outputs": [],
   "source": [
    "# Ideas, get news about the companies and see the sentiment\n",
    "# Get rating about the company\n"
   ]
  },
  {
   "cell_type": "code",
   "execution_count": 2,
   "metadata": {},
   "outputs": [],
   "source": [
    "# Creating a small trading bot using robin-stocks and using my account. I wont be placing any orders for now\n",
    "# importing all the libraries\n",
    "import robin_stocks\n",
    "import pandas as pd\n",
    "import numpy as np\n",
    "import matplotlib.pyplot as plt \n",
    "import seaborn as sns\n",
    "import math"
   ]
  },
  {
   "cell_type": "code",
   "execution_count": 3,
   "metadata": {},
   "outputs": [],
   "source": [
    "# loging into my account\n",
    "\n",
    "login=robin_stocks.authentication.login(username='', password='', expiresIn=86400, scope='internal', by_sms=True, store_session=True, mfa_code=None)"
   ]
  },
  {
   "cell_type": "code",
   "execution_count": 4,
   "metadata": {},
   "outputs": [],
   "source": [
    "# Getting information about my profile and converting to Pandas dataframe. Dont probably need it\n",
    "\n",
    "My_Profile=pd.DataFrame.from_dict(robin_stocks.profiles.load_account_profile(), orient='columns').transpose()\n",
    "#My_Profile"
   ]
  },
  {
   "cell_type": "code",
   "execution_count": 5,
   "metadata": {},
   "outputs": [],
   "source": [
    "# Getting information about how much cash I have available to buy\n",
    "\n",
    "Cash_Available=float(robin_stocks.profiles.load_account_profile('cash'))\n",
    "#Cash_Available"
   ]
  },
  {
   "cell_type": "code",
   "execution_count": 6,
   "metadata": {},
   "outputs": [],
   "source": [
    "# Getting the Average price of last month for the particular stock\n",
    "\n",
    "def Get_Avg_last_month(x):\n",
    "    try:\n",
    "        Stock_History_1_month=pd.DataFrame.from_dict(robin_stocks.stocks.get_stock_historicals(x, interval='day', span='month', bounds='regular', info=None), orient='columns')\n",
    "        return Stock_History_1_month['high_price'].astype(float).mean()\n",
    "    except:\n",
    "        return 0\n"
   ]
  },
  {
   "cell_type": "code",
   "execution_count": 7,
   "metadata": {},
   "outputs": [],
   "source": [
    "# Getting the Average price of last week for the particular stock\n",
    "\n",
    "def Get_Avg_last_week(x):\n",
    "    try:\n",
    "        Stock_History_1_week=pd.DataFrame.from_dict(robin_stocks.stocks.get_stock_historicals(x, interval='day', span='week', bounds='regular', info=None), orient='columns')\n",
    "        return Stock_History_1_week['high_price'].astype(float).mean()\n",
    "    except:\n",
    "        return 0"
   ]
  },
  {
   "cell_type": "code",
   "execution_count": 8,
   "metadata": {},
   "outputs": [],
   "source": [
    "# Getting the Stocks highest today's price\n",
    "\n",
    "def Get_Stock_price(x):\n",
    "    try:\n",
    "        return float(robin_stocks.stocks.get_fundamentals(x, info='high')[0])\n",
    "    except:\n",
    "        return 0\n"
   ]
  },
  {
   "cell_type": "code",
   "execution_count": 9,
   "metadata": {},
   "outputs": [],
   "source": [
    "# Getting the Stocks my buy price\n",
    "\n",
    "def Get_my_buy_price(x):\n",
    "    try:\n",
    "        return float(pd.DataFrame(robin_stocks.account.build_holdings())[x]['average_buy_price'])\n",
    "    except:\n",
    "        return 0\n"
   ]
  },
  {
   "cell_type": "code",
   "execution_count": 10,
   "metadata": {},
   "outputs": [],
   "source": [
    "# Getting the Stocks my Quantity\n",
    "\n",
    "def Get_my_Stock_Quantity(x):\n",
    "    try:\n",
    "        return float(pd.DataFrame(robin_stocks.account.build_holdings())[x]['quantity'])\n",
    "    except:\n",
    "        return 0"
   ]
  },
  {
   "cell_type": "code",
   "execution_count": null,
   "metadata": {},
   "outputs": [],
   "source": []
  },
  {
   "cell_type": "code",
   "execution_count": 11,
   "metadata": {},
   "outputs": [],
   "source": [
    "# Getting the Stocks Price to earning price\n",
    "\n",
    "def Get_PE_ratio(x):\n",
    "    try:\n",
    "        return float(pd.DataFrame(robin_stocks.stocks.get_fundamentals(x,'pe_ratio'))[0])\n",
    "    except:\n",
    "        return 0"
   ]
  },
  {
   "cell_type": "code",
   "execution_count": 12,
   "metadata": {},
   "outputs": [],
   "source": [
    "# Getting the Stocks Dividend price\n",
    "\n",
    "def Get_Dividend_Yield(x):\n",
    "    try:\n",
    "        return float(pd.DataFrame(robin_stocks.stocks.get_fundamentals(x,'dividend_yield'))[0])\n",
    "    except:\n",
    "        return 0"
   ]
  },
  {
   "cell_type": "code",
   "execution_count": 13,
   "metadata": {},
   "outputs": [],
   "source": [
    "# Getting the Stocks Market cap price\n",
    "\n",
    "def Get_Market_Cap(x):\n",
    "    try:\n",
    "        return float(pd.DataFrame(robin_stocks.stocks.get_fundamentals(x,'market_cap'))[0])\n",
    "    except:\n",
    "        return 0"
   ]
  },
  {
   "cell_type": "code",
   "execution_count": 14,
   "metadata": {},
   "outputs": [],
   "source": [
    "# Getting the list of all my invested stocks\n",
    "\n",
    "My_Stocks_List=pd.DataFrame.from_dict(robin_stocks.account.build_holdings()).columns.tolist()\n",
    "#My_Stocks_List"
   ]
  },
  {
   "cell_type": "code",
   "execution_count": 15,
   "metadata": {},
   "outputs": [],
   "source": [
    "#Defining my Do_Not_Sell list\n",
    "\n",
    "Do_Not_Sell_Stocks=['MSFT', 'AAPL', 'AMD', 'NVDA', 'AMZN', 'FB', 'BABA', 'SPOT', 'AMAT', 'WMT', \n",
    "                    'FTEC', 'UBER', 'BRK.B', 'MU', 'INTC',\n",
    "'DIS', 'FENY', 'NKLA']"
   ]
  },
  {
   "cell_type": "code",
   "execution_count": 16,
   "metadata": {},
   "outputs": [
    {
     "data": {
      "text/plain": [
       "['MSFT',\n",
       " 'AAPL',\n",
       " 'AMD',\n",
       " 'NVDA',\n",
       " 'AMZN',\n",
       " 'FB',\n",
       " 'BABA',\n",
       " 'SPOT',\n",
       " 'AMAT',\n",
       " 'WMT',\n",
       " 'FTEC',\n",
       " 'UBER',\n",
       " 'BRK.B',\n",
       " 'MU',\n",
       " 'INTC',\n",
       " 'DIS',\n",
       " 'FENY',\n",
       " 'BA',\n",
       " 'AAL',\n",
       " 'LMT',\n",
       " 'UAL',\n",
       " 'CLVS',\n",
       " 'INO',\n",
       " 'MRNA',\n",
       " 'NKLA',\n",
       " 'DQ']"
      ]
     },
     "execution_count": 16,
     "metadata": {},
     "output_type": "execute_result"
    }
   ],
   "source": [
    "My_Stocks_List"
   ]
  },
  {
   "cell_type": "code",
   "execution_count": 17,
   "metadata": {},
   "outputs": [],
   "source": [
    "# Important call, it will get you Category wise information for stocks. Here Im just getting 1 category\n",
    "\n",
    "#Stock_top_100=pd.DataFrame(robin_stocks.markets.get_all_stocks_from_market_tag('100-most-popular'))\n",
    "Top100_Stock_List=pd.DataFrame(robin_stocks.markets.get_all_stocks_from_market_tag('100-most-popular'))['symbol'].tolist()"
   ]
  },
  {
   "cell_type": "code",
   "execution_count": 18,
   "metadata": {},
   "outputs": [],
   "source": [
    "# Important call, it will get you Category wise information for stocks. Here Im just getting 1 category i.e HEalth\n",
    "\n",
    "\n",
    "Health_Stock_List=pd.DataFrame(robin_stocks.markets.get_all_stocks_from_market_tag('health'))['symbol'].tolist()"
   ]
  },
  {
   "cell_type": "code",
   "execution_count": 19,
   "metadata": {},
   "outputs": [],
   "source": [
    "# One of the key calls that I will be using in this project to get the stocks which went down\n",
    "# Top moves in S&P\n",
    "\n",
    "Top_Movers_List=pd.DataFrame(robin_stocks.markets.get_top_movers())['symbol'].tolist()\n",
    "#Top_Movers_List"
   ]
  },
  {
   "cell_type": "code",
   "execution_count": 20,
   "metadata": {},
   "outputs": [],
   "source": [
    "#Gathering information about top movers\n",
    "\n",
    "Top_Downers=pd.DataFrame(columns=['symbol', 'Latest_Price','Avg_Last_Month', 'Avg_Last_Week','Percent_Change_Week','PE_Ratio','Market_Cap','Divident_Yield'])\n",
    "for i in Top_Movers_List:\n",
    "    Top_Downers.loc[i]=[i,Get_Stock_price(i),Get_Avg_last_month(i),Get_Avg_last_week(i),(Get_Avg_last_week(i)-Get_Stock_price(i))*100/Get_Stock_price(i),Get_PE_ratio(i),Get_Market_Cap(i),Get_Dividend_Yield(i)]"
   ]
  },
  {
   "cell_type": "code",
   "execution_count": 21,
   "metadata": {},
   "outputs": [
    {
     "data": {
      "text/html": [
       "<div>\n",
       "<style scoped>\n",
       "    .dataframe tbody tr th:only-of-type {\n",
       "        vertical-align: middle;\n",
       "    }\n",
       "\n",
       "    .dataframe tbody tr th {\n",
       "        vertical-align: top;\n",
       "    }\n",
       "\n",
       "    .dataframe thead th {\n",
       "        text-align: right;\n",
       "    }\n",
       "</style>\n",
       "<table border=\"1\" class=\"dataframe\">\n",
       "  <thead>\n",
       "    <tr style=\"text-align: right;\">\n",
       "      <th></th>\n",
       "      <th>symbol</th>\n",
       "      <th>Latest_Price</th>\n",
       "      <th>Avg_Last_Month</th>\n",
       "      <th>Avg_Last_Week</th>\n",
       "      <th>Percent_Change_Week</th>\n",
       "      <th>PE_Ratio</th>\n",
       "      <th>Market_Cap</th>\n",
       "      <th>Divident_Yield</th>\n",
       "    </tr>\n",
       "  </thead>\n",
       "  <tbody>\n",
       "    <tr>\n",
       "      <th>GB</th>\n",
       "      <td>GB</td>\n",
       "      <td>9.450</td>\n",
       "      <td>10.856173</td>\n",
       "      <td>12.46198</td>\n",
       "      <td>31.872804</td>\n",
       "      <td>0.0000</td>\n",
       "      <td>6.759844e+08</td>\n",
       "      <td>0</td>\n",
       "    </tr>\n",
       "    <tr>\n",
       "      <th>ARCT</th>\n",
       "      <td>ARCT</td>\n",
       "      <td>48.240</td>\n",
       "      <td>56.655382</td>\n",
       "      <td>54.77910</td>\n",
       "      <td>13.555348</td>\n",
       "      <td>0.0000</td>\n",
       "      <td>1.034304e+09</td>\n",
       "      <td>0</td>\n",
       "    </tr>\n",
       "    <tr>\n",
       "      <th>VXRT</th>\n",
       "      <td>VXRT</td>\n",
       "      <td>5.880</td>\n",
       "      <td>9.044091</td>\n",
       "      <td>6.54000</td>\n",
       "      <td>11.224490</td>\n",
       "      <td>0.0000</td>\n",
       "      <td>5.722185e+08</td>\n",
       "      <td>0</td>\n",
       "    </tr>\n",
       "    <tr>\n",
       "      <th>SCSC</th>\n",
       "      <td>SCSC</td>\n",
       "      <td>22.425</td>\n",
       "      <td>25.240468</td>\n",
       "      <td>24.90574</td>\n",
       "      <td>11.062386</td>\n",
       "      <td>17.4091</td>\n",
       "      <td>5.424001e+08</td>\n",
       "      <td>0</td>\n",
       "    </tr>\n",
       "    <tr>\n",
       "      <th>METX</th>\n",
       "      <td>METX</td>\n",
       "      <td>8.610</td>\n",
       "      <td>10.471386</td>\n",
       "      <td>9.34000</td>\n",
       "      <td>8.478513</td>\n",
       "      <td>0.0000</td>\n",
       "      <td>4.476599e+08</td>\n",
       "      <td>0</td>\n",
       "    </tr>\n",
       "    <tr>\n",
       "      <th>VIR</th>\n",
       "      <td>VIR</td>\n",
       "      <td>40.230</td>\n",
       "      <td>50.467759</td>\n",
       "      <td>43.14824</td>\n",
       "      <td>7.253890</td>\n",
       "      <td>0.0000</td>\n",
       "      <td>4.305860e+09</td>\n",
       "      <td>0</td>\n",
       "    </tr>\n",
       "    <tr>\n",
       "      <th>MGNX</th>\n",
       "      <td>MGNX</td>\n",
       "      <td>28.820</td>\n",
       "      <td>27.822500</td>\n",
       "      <td>28.15200</td>\n",
       "      <td>-2.317835</td>\n",
       "      <td>0.0000</td>\n",
       "      <td>1.424906e+09</td>\n",
       "      <td>0</td>\n",
       "    </tr>\n",
       "    <tr>\n",
       "      <th>LSXMB</th>\n",
       "      <td>LSXMB</td>\n",
       "      <td>40.640</td>\n",
       "      <td>37.150927</td>\n",
       "      <td>38.61800</td>\n",
       "      <td>-4.975394</td>\n",
       "      <td>31.7958</td>\n",
       "      <td>1.237309e+10</td>\n",
       "      <td>0</td>\n",
       "    </tr>\n",
       "    <tr>\n",
       "      <th>URGN</th>\n",
       "      <td>URGN</td>\n",
       "      <td>24.990</td>\n",
       "      <td>23.785682</td>\n",
       "      <td>23.60400</td>\n",
       "      <td>-5.546218</td>\n",
       "      <td>0.0000</td>\n",
       "      <td>4.695474e+08</td>\n",
       "      <td>0</td>\n",
       "    </tr>\n",
       "    <tr>\n",
       "      <th>IMAB</th>\n",
       "      <td>IMAB</td>\n",
       "      <td>39.440</td>\n",
       "      <td>32.059809</td>\n",
       "      <td>35.63798</td>\n",
       "      <td>-9.640010</td>\n",
       "      <td>0.0000</td>\n",
       "      <td>2.024014e+09</td>\n",
       "      <td>0</td>\n",
       "    </tr>\n",
       "    <tr>\n",
       "      <th>SWBI</th>\n",
       "      <td>SWBI</td>\n",
       "      <td>22.050</td>\n",
       "      <td>23.814773</td>\n",
       "      <td>19.31200</td>\n",
       "      <td>-12.417234</td>\n",
       "      <td>0.0000</td>\n",
       "      <td>1.172325e+09</td>\n",
       "      <td>0</td>\n",
       "    </tr>\n",
       "    <tr>\n",
       "      <th>NLS</th>\n",
       "      <td>NLS</td>\n",
       "      <td>14.240</td>\n",
       "      <td>12.928764</td>\n",
       "      <td>12.36780</td>\n",
       "      <td>-13.147472</td>\n",
       "      <td>0.0000</td>\n",
       "      <td>4.150443e+08</td>\n",
       "      <td>0</td>\n",
       "    </tr>\n",
       "    <tr>\n",
       "      <th>SHLL</th>\n",
       "      <td>SHLL</td>\n",
       "      <td>48.970</td>\n",
       "      <td>29.155859</td>\n",
       "      <td>40.47590</td>\n",
       "      <td>-17.345518</td>\n",
       "      <td>0.0000</td>\n",
       "      <td>1.426311e+09</td>\n",
       "      <td>0</td>\n",
       "    </tr>\n",
       "    <tr>\n",
       "      <th>DOCU</th>\n",
       "      <td>DOCU</td>\n",
       "      <td>271.440</td>\n",
       "      <td>215.307791</td>\n",
       "      <td>221.45700</td>\n",
       "      <td>-18.414014</td>\n",
       "      <td>0.0000</td>\n",
       "      <td>4.932722e+10</td>\n",
       "      <td>0</td>\n",
       "    </tr>\n",
       "    <tr>\n",
       "      <th>HOME</th>\n",
       "      <td>HOME</td>\n",
       "      <td>23.920</td>\n",
       "      <td>17.450286</td>\n",
       "      <td>19.25588</td>\n",
       "      <td>-19.498829</td>\n",
       "      <td>0.0000</td>\n",
       "      <td>1.497504e+09</td>\n",
       "      <td>0</td>\n",
       "    </tr>\n",
       "    <tr>\n",
       "      <th>NNOX</th>\n",
       "      <td>NNOX</td>\n",
       "      <td>37.730</td>\n",
       "      <td>23.156814</td>\n",
       "      <td>28.26200</td>\n",
       "      <td>-25.094090</td>\n",
       "      <td>0.0000</td>\n",
       "      <td>1.599991e+09</td>\n",
       "      <td>0</td>\n",
       "    </tr>\n",
       "    <tr>\n",
       "      <th>LBRT</th>\n",
       "      <td>LBRT</td>\n",
       "      <td>9.189</td>\n",
       "      <td>6.868409</td>\n",
       "      <td>6.70800</td>\n",
       "      <td>-26.999674</td>\n",
       "      <td>0.0000</td>\n",
       "      <td>7.424655e+08</td>\n",
       "      <td>2.93686</td>\n",
       "    </tr>\n",
       "    <tr>\n",
       "      <th>GOGO</th>\n",
       "      <td>GOGO</td>\n",
       "      <td>8.000</td>\n",
       "      <td>4.040091</td>\n",
       "      <td>5.39200</td>\n",
       "      <td>-32.600000</td>\n",
       "      <td>0.0000</td>\n",
       "      <td>6.269187e+08</td>\n",
       "      <td>0</td>\n",
       "    </tr>\n",
       "    <tr>\n",
       "      <th>ZM</th>\n",
       "      <td>ZM</td>\n",
       "      <td>478.000</td>\n",
       "      <td>280.207509</td>\n",
       "      <td>311.61996</td>\n",
       "      <td>-34.807540</td>\n",
       "      <td>1738.9300</td>\n",
       "      <td>1.291158e+11</td>\n",
       "      <td>0</td>\n",
       "    </tr>\n",
       "    <tr>\n",
       "      <th>KODK</th>\n",
       "      <td>KODK</td>\n",
       "      <td>9.870</td>\n",
       "      <td>10.700455</td>\n",
       "      <td>6.34800</td>\n",
       "      <td>-35.683891</td>\n",
       "      <td>0.0000</td>\n",
       "      <td>5.524939e+08</td>\n",
       "      <td>0</td>\n",
       "    </tr>\n",
       "  </tbody>\n",
       "</table>\n",
       "</div>"
      ],
      "text/plain": [
       "      symbol  Latest_Price  Avg_Last_Month  Avg_Last_Week  \\\n",
       "GB        GB         9.450       10.856173       12.46198   \n",
       "ARCT    ARCT        48.240       56.655382       54.77910   \n",
       "VXRT    VXRT         5.880        9.044091        6.54000   \n",
       "SCSC    SCSC        22.425       25.240468       24.90574   \n",
       "METX    METX         8.610       10.471386        9.34000   \n",
       "VIR      VIR        40.230       50.467759       43.14824   \n",
       "MGNX    MGNX        28.820       27.822500       28.15200   \n",
       "LSXMB  LSXMB        40.640       37.150927       38.61800   \n",
       "URGN    URGN        24.990       23.785682       23.60400   \n",
       "IMAB    IMAB        39.440       32.059809       35.63798   \n",
       "SWBI    SWBI        22.050       23.814773       19.31200   \n",
       "NLS      NLS        14.240       12.928764       12.36780   \n",
       "SHLL    SHLL        48.970       29.155859       40.47590   \n",
       "DOCU    DOCU       271.440      215.307791      221.45700   \n",
       "HOME    HOME        23.920       17.450286       19.25588   \n",
       "NNOX    NNOX        37.730       23.156814       28.26200   \n",
       "LBRT    LBRT         9.189        6.868409        6.70800   \n",
       "GOGO    GOGO         8.000        4.040091        5.39200   \n",
       "ZM        ZM       478.000      280.207509      311.61996   \n",
       "KODK    KODK         9.870       10.700455        6.34800   \n",
       "\n",
       "       Percent_Change_Week   PE_Ratio    Market_Cap Divident_Yield  \n",
       "GB               31.872804     0.0000  6.759844e+08              0  \n",
       "ARCT             13.555348     0.0000  1.034304e+09              0  \n",
       "VXRT             11.224490     0.0000  5.722185e+08              0  \n",
       "SCSC             11.062386    17.4091  5.424001e+08              0  \n",
       "METX              8.478513     0.0000  4.476599e+08              0  \n",
       "VIR               7.253890     0.0000  4.305860e+09              0  \n",
       "MGNX             -2.317835     0.0000  1.424906e+09              0  \n",
       "LSXMB            -4.975394    31.7958  1.237309e+10              0  \n",
       "URGN             -5.546218     0.0000  4.695474e+08              0  \n",
       "IMAB             -9.640010     0.0000  2.024014e+09              0  \n",
       "SWBI            -12.417234     0.0000  1.172325e+09              0  \n",
       "NLS             -13.147472     0.0000  4.150443e+08              0  \n",
       "SHLL            -17.345518     0.0000  1.426311e+09              0  \n",
       "DOCU            -18.414014     0.0000  4.932722e+10              0  \n",
       "HOME            -19.498829     0.0000  1.497504e+09              0  \n",
       "NNOX            -25.094090     0.0000  1.599991e+09              0  \n",
       "LBRT            -26.999674     0.0000  7.424655e+08        2.93686  \n",
       "GOGO            -32.600000     0.0000  6.269187e+08              0  \n",
       "ZM              -34.807540  1738.9300  1.291158e+11              0  \n",
       "KODK            -35.683891     0.0000  5.524939e+08              0  "
      ]
     },
     "execution_count": 21,
     "metadata": {},
     "output_type": "execute_result"
    }
   ],
   "source": [
    "Top_Downers.sort_values(by='Percent_Change_Week',ascending=False)"
   ]
  },
  {
   "cell_type": "code",
   "execution_count": 22,
   "metadata": {},
   "outputs": [],
   "source": [
    "#Creating Stock pick list by filtering from Top_Downer list\n",
    "\n",
    "Stock_Pick=Top_Downers[(Top_Downers['Percent_Change_Week']>8) & (Top_Downers['PE_Ratio']>4) & (Top_Downers['Market_Cap']>1.0e+08)].sort_values(\n",
    "    by=['Percent_Change_Week','PE_Ratio'],ascending=False)\n",
    "Stock_Pick_List=Stock_Pick['symbol'].tolist()\n"
   ]
  },
  {
   "cell_type": "code",
   "execution_count": 23,
   "metadata": {},
   "outputs": [],
   "source": [
    "#Creating the Stock buy list by checking if it already exist in health, then dont buy\n",
    "\n",
    "Stock_Buy_List=[]\n",
    "for i in Stock_Pick_List:\n",
    "    if i in Health_Stock_List:\n",
    "        pass\n",
    "    else:\n",
    "        Stock_Buy_List.append(i)"
   ]
  },
  {
   "cell_type": "code",
   "execution_count": 24,
   "metadata": {},
   "outputs": [
    {
     "data": {
      "text/plain": [
       "['SCSC']"
      ]
     },
     "execution_count": 24,
     "metadata": {},
     "output_type": "execute_result"
    }
   ],
   "source": [
    "Stock_Buy_List"
   ]
  },
  {
   "cell_type": "code",
   "execution_count": 25,
   "metadata": {},
   "outputs": [
    {
     "data": {
      "text/plain": [
       "44"
      ]
     },
     "execution_count": 25,
     "metadata": {},
     "output_type": "execute_result"
    }
   ],
   "source": [
    "# Preparing for Buy. For investing $1000\n",
    "\n",
    "Number_Buy_Stocks=math.floor(1000/Get_Stock_price(Stock_Buy_List[0]))\n",
    "Number_Buy_Stocks"
   ]
  },
  {
   "cell_type": "code",
   "execution_count": 26,
   "metadata": {},
   "outputs": [
    {
     "name": "stdout",
     "output_type": "stream",
     "text": [
      "Sorry!! You dont have enough money to buy stock\n"
     ]
    }
   ],
   "source": [
    "# Buying only 1 stock for that day. Top pcik\n",
    "\n",
    "if Cash_Available>1000:\n",
    "    #robin_stocks.orders.order_buy_market(Stock_Buy_List[0],Number_Buy_Stocks)\n",
    "    print(str(Number_Buy_Stocks)+' Number of Stocks bought of '+ str(Stock_Buy_List[0]))\n",
    "\n",
    "else:\n",
    "          \n",
    "    print('Sorry!! You dont have enough money to buy stock')\n",
    "\n"
   ]
  },
  {
   "cell_type": "code",
   "execution_count": 27,
   "metadata": {},
   "outputs": [],
   "source": [
    "#Creating the To Sell list \n",
    "\n",
    "To_Sell_List=[]\n",
    "for i in My_Stocks_List:\n",
    "    if i in Do_Not_Sell_Stocks:\n",
    "        pass\n",
    "    else:\n",
    "        To_Sell_List.append(i)"
   ]
  },
  {
   "cell_type": "code",
   "execution_count": 28,
   "metadata": {},
   "outputs": [
    {
     "data": {
      "text/plain": [
       "['BA', 'AAL', 'LMT', 'UAL', 'CLVS', 'INO', 'MRNA', 'DQ']"
      ]
     },
     "execution_count": 28,
     "metadata": {},
     "output_type": "execute_result"
    }
   ],
   "source": [
    "To_Sell_List"
   ]
  },
  {
   "cell_type": "code",
   "execution_count": 29,
   "metadata": {},
   "outputs": [],
   "source": [
    "#Gathering information about top movers\n",
    "\n",
    "Top_Uppers=pd.DataFrame(columns=['symbol', 'Latest_Price', 'Avg_Last_Week','My_Buy_Price','Percent_Change_Week','PE_Ratio','Market_Cap','Divident_Yield'])\n",
    "for i in To_Sell_List:\n",
    "    Top_Uppers.loc[i]=[i,Get_Stock_price(i),Get_Avg_last_week(i),Get_my_buy_price(i),(Get_my_buy_price(i)-Get_Stock_price(i))*100/Get_Stock_price(i),Get_PE_ratio(i),Get_Market_Cap(i),Get_Dividend_Yield(i)]"
   ]
  },
  {
   "cell_type": "code",
   "execution_count": 30,
   "metadata": {},
   "outputs": [],
   "source": [
    "Top_Sell_List=Top_Uppers.sort_values(by='Percent_Change_Week',ascending=True)"
   ]
  },
  {
   "cell_type": "code",
   "execution_count": 31,
   "metadata": {},
   "outputs": [
    {
     "data": {
      "text/plain": [
       "'AAL'"
      ]
     },
     "execution_count": 31,
     "metadata": {},
     "output_type": "execute_result"
    }
   ],
   "source": [
    "Top_Sell_List['symbol'][0]"
   ]
  },
  {
   "cell_type": "code",
   "execution_count": 32,
   "metadata": {},
   "outputs": [
    {
     "name": "stdout",
     "output_type": "stream",
     "text": [
      "50.0 Number of Stocks sold for AAL\n"
     ]
    }
   ],
   "source": [
    "# Selling only 1 stock for that day. Top pcik\n",
    "\n",
    "#robin_stocks.orders.order_sell_market(Top_Sell_List['symbol'][0],Get_my_Stock_Quantity(Top_Sell_List['symbol'][0]))\n",
    "print( str(Get_my_Stock_Quantity(Top_Sell_List['symbol'][0])) +' Number of Stocks sold for '+ str(Top_Sell_List['symbol'][0]) )"
   ]
  },
  {
   "cell_type": "code",
   "execution_count": 33,
   "metadata": {},
   "outputs": [
    {
     "data": {
      "text/html": [
       "<div>\n",
       "<style scoped>\n",
       "    .dataframe tbody tr th:only-of-type {\n",
       "        vertical-align: middle;\n",
       "    }\n",
       "\n",
       "    .dataframe tbody tr th {\n",
       "        vertical-align: top;\n",
       "    }\n",
       "\n",
       "    .dataframe thead th {\n",
       "        text-align: right;\n",
       "    }\n",
       "</style>\n",
       "<table border=\"1\" class=\"dataframe\">\n",
       "  <thead>\n",
       "    <tr style=\"text-align: right;\">\n",
       "      <th></th>\n",
       "      <th>symbol</th>\n",
       "      <th>Latest_Price</th>\n",
       "      <th>Avg_Last_Week</th>\n",
       "      <th>My_Buy_Price</th>\n",
       "      <th>Percent_Change_Week</th>\n",
       "      <th>PE_Ratio</th>\n",
       "      <th>Market_Cap</th>\n",
       "      <th>Divident_Yield</th>\n",
       "    </tr>\n",
       "  </thead>\n",
       "  <tbody>\n",
       "    <tr>\n",
       "      <th>AAL</th>\n",
       "      <td>AAL</td>\n",
       "      <td>13.840</td>\n",
       "      <td>13.58800</td>\n",
       "      <td>11.9500</td>\n",
       "      <td>-13.656069</td>\n",
       "      <td>0</td>\n",
       "      <td>6.662149e+09</td>\n",
       "      <td>2.94334</td>\n",
       "    </tr>\n",
       "    <tr>\n",
       "      <th>UAL</th>\n",
       "      <td>UAL</td>\n",
       "      <td>37.240</td>\n",
       "      <td>36.87600</td>\n",
       "      <td>32.6300</td>\n",
       "      <td>-12.379162</td>\n",
       "      <td>0</td>\n",
       "      <td>1.047833e+10</td>\n",
       "      <td>0.00000</td>\n",
       "    </tr>\n",
       "    <tr>\n",
       "      <th>LMT</th>\n",
       "      <td>LMT</td>\n",
       "      <td>389.185</td>\n",
       "      <td>395.80100</td>\n",
       "      <td>347.9600</td>\n",
       "      <td>-10.592649</td>\n",
       "      <td>17.3368</td>\n",
       "      <td>1.081296e+11</td>\n",
       "      <td>2.37620</td>\n",
       "    </tr>\n",
       "    <tr>\n",
       "      <th>DQ</th>\n",
       "      <td>DQ</td>\n",
       "      <td>119.170</td>\n",
       "      <td>126.86000</td>\n",
       "      <td>115.0400</td>\n",
       "      <td>-3.465637</td>\n",
       "      <td>28.7199</td>\n",
       "      <td>1.578117e+09</td>\n",
       "      <td>0.00000</td>\n",
       "    </tr>\n",
       "    <tr>\n",
       "      <th>MRNA</th>\n",
       "      <td>MRNA</td>\n",
       "      <td>64.500</td>\n",
       "      <td>68.60000</td>\n",
       "      <td>87.8400</td>\n",
       "      <td>36.186047</td>\n",
       "      <td>0</td>\n",
       "      <td>2.498525e+10</td>\n",
       "      <td>0.00000</td>\n",
       "    </tr>\n",
       "    <tr>\n",
       "      <th>CLVS</th>\n",
       "      <td>CLVS</td>\n",
       "      <td>5.230</td>\n",
       "      <td>5.33200</td>\n",
       "      <td>9.7662</td>\n",
       "      <td>86.734226</td>\n",
       "      <td>0</td>\n",
       "      <td>4.463072e+08</td>\n",
       "      <td>0.00000</td>\n",
       "    </tr>\n",
       "    <tr>\n",
       "      <th>BA</th>\n",
       "      <td>BA</td>\n",
       "      <td>175.490</td>\n",
       "      <td>176.02196</td>\n",
       "      <td>368.0500</td>\n",
       "      <td>109.727050</td>\n",
       "      <td>0</td>\n",
       "      <td>9.714167e+10</td>\n",
       "      <td>4.67577</td>\n",
       "    </tr>\n",
       "    <tr>\n",
       "      <th>INO</th>\n",
       "      <td>INO</td>\n",
       "      <td>12.050</td>\n",
       "      <td>12.57400</td>\n",
       "      <td>30.5050</td>\n",
       "      <td>153.153527</td>\n",
       "      <td>0</td>\n",
       "      <td>1.911403e+09</td>\n",
       "      <td>0.00000</td>\n",
       "    </tr>\n",
       "  </tbody>\n",
       "</table>\n",
       "</div>"
      ],
      "text/plain": [
       "     symbol  Latest_Price  Avg_Last_Week  My_Buy_Price  Percent_Change_Week  \\\n",
       "AAL     AAL        13.840       13.58800       11.9500           -13.656069   \n",
       "UAL     UAL        37.240       36.87600       32.6300           -12.379162   \n",
       "LMT     LMT       389.185      395.80100      347.9600           -10.592649   \n",
       "DQ       DQ       119.170      126.86000      115.0400            -3.465637   \n",
       "MRNA   MRNA        64.500       68.60000       87.8400            36.186047   \n",
       "CLVS   CLVS         5.230        5.33200        9.7662            86.734226   \n",
       "BA       BA       175.490      176.02196      368.0500           109.727050   \n",
       "INO     INO        12.050       12.57400       30.5050           153.153527   \n",
       "\n",
       "     PE_Ratio    Market_Cap  Divident_Yield  \n",
       "AAL         0  6.662149e+09         2.94334  \n",
       "UAL         0  1.047833e+10         0.00000  \n",
       "LMT   17.3368  1.081296e+11         2.37620  \n",
       "DQ    28.7199  1.578117e+09         0.00000  \n",
       "MRNA        0  2.498525e+10         0.00000  \n",
       "CLVS        0  4.463072e+08         0.00000  \n",
       "BA          0  9.714167e+10         4.67577  \n",
       "INO         0  1.911403e+09         0.00000  "
      ]
     },
     "execution_count": 33,
     "metadata": {},
     "output_type": "execute_result"
    }
   ],
   "source": [
    "Top_Sell_List"
   ]
  },
  {
   "cell_type": "code",
   "execution_count": 34,
   "metadata": {},
   "outputs": [],
   "source": [
    "from pandas_profiling import ProfileReport\n",
    "prof = ProfileReport(Top_Sell_List)\n"
   ]
  },
  {
   "cell_type": "code",
   "execution_count": null,
   "metadata": {},
   "outputs": [],
   "source": []
  },
  {
   "cell_type": "code",
   "execution_count": 35,
   "metadata": {},
   "outputs": [
    {
     "name": "stdout",
     "output_type": "stream",
     "text": [
      "Name: pandas-profiling\n",
      "Version: 2.7.1\n",
      "Summary: Generate profile report for pandas DataFrame\n",
      "Home-page: https://github.com/pandas-profiling/pandas-profiling\n",
      "Author: Simon Brugman\n",
      "Author-email: pandasprofiling@gmail.com\n",
      "License: MIT\n",
      "Location: c:\\users\\100931\\anaconda3\\lib\\site-packages\n",
      "Requires: htmlmin, astropy, matplotlib, tqdm, numpy, jinja2, missingno, scipy, tangled-up-in-unicode, requests, ipywidgets, joblib, confuse, phik, pandas, visions\n",
      "Required-by: \n",
      "Note: you may need to restart the kernel to use updated packages.\n"
     ]
    }
   ],
   "source": [
    "pip show pandas-profiling"
   ]
  },
  {
   "cell_type": "code",
   "execution_count": null,
   "metadata": {},
   "outputs": [],
   "source": []
  }
 ],
 "metadata": {
  "kernelspec": {
   "display_name": "Python 3",
   "language": "python",
   "name": "python3"
  },
  "language_info": {
   "codemirror_mode": {
    "name": "ipython",
    "version": 3
   },
   "file_extension": ".py",
   "mimetype": "text/x-python",
   "name": "python",
   "nbconvert_exporter": "python",
   "pygments_lexer": "ipython3",
   "version": "3.7.6"
  }
 },
 "nbformat": 4,
 "nbformat_minor": 4
}
